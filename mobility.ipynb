{
 "cells": [
  {
   "cell_type": "code",
   "execution_count": null,
   "source": [
    "import pandas as pd\n",
    "import numpy as np"
   ],
   "outputs": [],
   "metadata": {}
  },
  {
   "cell_type": "code",
   "execution_count": null,
   "source": [
    "mobility = pd.read_csv(\"google_mobility_county.csv\", dtype= {\"countyfips\": str})\n",
    "mobility = mobility.replace(\".\", None)\n",
    "mobility[[\"gps_retail_and_recreation\", \"gps_grocery_and_pharmacy\",\n",
    "     \"gps_parks\", \"gps_transit_stations\", \"gps_workplaces\",\"gps_residential\", \"gps_away_from_home\"]] = mobility[[\"gps_retail_and_recreation\", \"gps_grocery_and_pharmacy\",\n",
    "     \"gps_parks\", \"gps_transit_stations\", \"gps_workplaces\",\"gps_residential\", \"gps_away_from_home\"]].apply(pd.to_numeric)\n",
    "\n",
    "mobility[\"countyfips\"]= mobility[\"countyfips\"].str.zfill(5)\n",
    "mobility[\"date\"] = pd.to_datetime(mobility[[\"year\", \"month\", \"day\"]])\n",
    "mobility"
   ],
   "outputs": [],
   "metadata": {}
  },
  {
   "cell_type": "code",
   "execution_count": null,
   "source": [
    "fig = go.Figure()\n",
    "\n",
    "fig.add_trace(go.Scatter(\n",
    "    x= mobility[mobility[\"countyfips\"] == \"01003\"][\"date\"],\n",
    "    y= mobility[mobility[\"countyfips\"] == \"01003\"][\"gps_parks\"],\n",
    "    name = 'Mobility near parks', # Style name/legend entry with html tags\n",
    "    connectgaps=True # override default to connect the gaps\n",
    "))\n",
    "fig.add_trace(go.Scatter(\n",
    "    x= mobility[mobility[\"countyfips\"] == \"01003\"][\"date\"],\n",
    "    y= mobility[mobility[\"countyfips\"] == \"01003\"][\"gps_retail_and_recreation\"],\n",
    "    name = 'Mobility near retail and recreation', # Style name/legend entry with html tags\n",
    "    connectgaps=True # override default to connect the gaps\n",
    "))\n",
    "\n",
    "fig.show()"
   ],
   "outputs": [],
   "metadata": {}
  }
 ],
 "metadata": {
  "orig_nbformat": 4,
  "language_info": {
   "name": "python"
  }
 },
 "nbformat": 4,
 "nbformat_minor": 2
}